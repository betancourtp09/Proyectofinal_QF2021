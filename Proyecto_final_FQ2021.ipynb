{
 "cells": [
  {
   "cell_type": "markdown",
   "id": "7c0c242e",
   "metadata": {},
   "source": [
    "# Finanzas cuantitativas\n",
    "## Decisiones corporativas \n",
    "\n",
    "#### Integrantes:\n",
    "1. Valeria Ladrón de Guevara\n",
    "2. Jose Antonio Cstaño\n",
    "3. Jose Leonardo Aceves\n"
   ]
  },
  {
   "cell_type": "code",
   "execution_count": null,
   "id": "c5c28ab4",
   "metadata": {},
   "outputs": [],
   "source": [
    "#Introducción"
   ]
  },
  {
   "cell_type": "code",
   "execution_count": null,
   "id": "7bfe67e8",
   "metadata": {},
   "outputs": [],
   "source": [
    "#Codigos"
   ]
  },
  {
   "cell_type": "code",
   "execution_count": null,
   "id": "5285b972",
   "metadata": {},
   "outputs": [],
   "source": [
    "#Conclusiones individuales"
   ]
  },
  {
   "cell_type": "markdown",
   "id": "e56c9c44",
   "metadata": {},
   "source": [
    "#Documentos de referencia.\n",
    "https://media.iese.edu/research/pdfs/DI-0760.pdf\n",
    "https://bdigital.uexternado.edu.co/bitstream/handle/001/392/AMA-spa-2016-Aplicaci%C3%B3n_de_opciones_reales_en_la_valoracion.pdf?sequence=1&isAllowed=y\n",
    "https://www.eltrimestreeconomico.com.mx/index.php/te/article/view/548/841\n"
   ]
  },
  {
   "cell_type": "code",
   "execution_count": null,
   "id": "be3ed2b3",
   "metadata": {},
   "outputs": [],
   "source": []
  }
 ],
 "metadata": {
  "kernelspec": {
   "display_name": "Python 3",
   "language": "python",
   "name": "python3"
  },
  "language_info": {
   "codemirror_mode": {
    "name": "ipython",
    "version": 3
   },
   "file_extension": ".py",
   "mimetype": "text/x-python",
   "name": "python",
   "nbconvert_exporter": "python",
   "pygments_lexer": "ipython3",
   "version": "3.8.8"
  }
 },
 "nbformat": 4,
 "nbformat_minor": 5
}
