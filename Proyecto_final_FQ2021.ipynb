{
 "cells": [
  {
   "cell_type": "markdown",
   "id": "13296d03",
   "metadata": {},
   "source": [
    "# Finanzas cuantitativas\n",
    "## Greeks\n",
    "\n",
    "#### Integrantes:\n",
    "1. Valeria Ladrón de Guevara\n",
    "2. Jose Antonio Cstaño\n",
    "3. Jose Leonardo Aceves\n"
   ]
  },
  {
   "cell_type": "code",
   "execution_count": null,
   "id": "ac32f46c",
   "metadata": {},
   "outputs": [],
   "source": [
    "#Introducción"
   ]
  },
  {
   "cell_type": "code",
   "execution_count": null,
   "id": "6f6ff049",
   "metadata": {},
   "outputs": [],
   "source": [
    "#Codigos"
   ]
  },
  {
   "cell_type": "code",
   "execution_count": null,
   "id": "815d1ea4",
   "metadata": {},
   "outputs": [],
   "source": [
    "#Conclusiones individuales"
   ]
  },
  {
   "cell_type": "code",
   "execution_count": null,
   "id": "b11c6b0f",
   "metadata": {},
   "outputs": [],
   "source": []
  },
  {
   "cell_type": "code",
   "execution_count": null,
   "id": "603b6ff2",
   "metadata": {},
   "outputs": [],
   "source": []
  }
 ],
 "metadata": {
  "kernelspec": {
   "display_name": "Python 3",
   "language": "python",
   "name": "python3"
  },
  "language_info": {
   "codemirror_mode": {
    "name": "ipython",
    "version": 3
   },
   "file_extension": ".py",
   "mimetype": "text/x-python",
   "name": "python",
   "nbconvert_exporter": "python",
   "pygments_lexer": "ipython3",
   "version": "3.8.8"
  }
 },
 "nbformat": 4,
 "nbformat_minor": 5
}
