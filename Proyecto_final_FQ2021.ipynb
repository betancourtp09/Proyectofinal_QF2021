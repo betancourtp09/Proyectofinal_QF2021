{
 "cells": [
  {
   "cell_type": "markdown",
   "id": "7c0c242e",
   "metadata": {},
   "source": [
    "# Finanzas cuantitativas\n",
    "## Decisiones corporativas \n",
    "\n",
    "#### Integrantes:\n",
    "1. Valeria Ladrón de Guevara\n",
    "2. Jose Antonio Cstaño\n",
    "3. Jose Leonardo Aceves\n"
   ]
  },
  {
   "cell_type": "markdown",
   "id": "57ff2002",
   "metadata": {},
   "source": [
    "## MÉTODO DE VALORACIÓN POR OPCIONES REALES"
   ]
  },
  {
   "cell_type": "markdown",
   "id": "1dd51577",
   "metadata": {},
   "source": [
    "## Objetivo general"
   ]
  },
  {
   "cell_type": "markdown",
   "id": "73985535",
   "metadata": {},
   "source": [
    "Como parte del curso de finanzas cuantitativas, desarrollaremos en un proyecto integrador, la suma de todos los aprendizajes alcanzados a lo largo del semestre. Dicho producto integrador, tiene como eje principal la aplicación de métodos de estimación de precios de opciones reales; debemos recordar que la definición de opción real puede traducirse como las posibilidades que tienen algunos proyectos para introducir, en el futuro, modificaciones en las inversiones productivas incrementando así el valor del mismo. En la práctica, los directivos suelen referirse a estas opciones como intangibles.\n",
    "La opciones reales se han convertido en un instrumento indispensable para que los consejos de administración de las empresas tomen decisiones respecto a proyectos de inversión o estrategias de negocios cuando existe la flexibilidad (opcionalidad) de tomar en el futuro nuevas decisiones relacionadas con extender, contraer, posponer, enmendar o abandonar un proyecto o estrategia.\n"
   ]
  },
  {
   "cell_type": "markdown",
   "id": "07ea271a",
   "metadata": {},
   "source": [
    "## Conceptos clave"
   ]
  },
  {
   "cell_type": "markdown",
   "id": "6402ec87",
   "metadata": {},
   "source": [
    "#### Opción real de expansión\n",
    "Una empresa podría expandir el valor presente de los flujos de efectivo esperados de un proyecto en una proporción α. Por ejemplo, mediante el incremento en las de ventas futuras, precios, capacidad de la producción o base de clientes, para lo cual requiere invertir la cantidad K´ en el momento T. Esta posibilidad estratégica tiene una opción asociada con el proyecto subyacente existente. Si (1 + α)S T -K´ es el valor presente neto aumentado en la proporción α% menos el costo de la inversión adición al K´ al momento T, el valor intrínseco de esta opción está dado por\n"
   ]
  },
  {
   "cell_type": "code",
   "execution_count": 3,
   "id": "b6fb6d71",
   "metadata": {},
   "outputs": [],
   "source": [
    "#DEFINICION EN latex"
   ]
  },
  {
   "cell_type": "markdown",
   "id": "a8db56f3",
   "metadata": {},
   "source": [
    "#### Opción real de contracción\n",
    "Cuando una empresa introduce al mercado un nuevo producto (bien o servicio), usualmente, tiene un plan de inversión en dos etapas. En la primera la empresa invierte una cantidad inicial, por lo común pequeña, para conducir estudios de mercado. La inversión subsecuente depende de los resultados de dichos estudios. Si, en la segunda etapa, el producto no presenta la aceptación esperada la empresa puede ejercer la opción real de contraer la producción con el recorte de inversiones futuras.\n"
   ]
  },
  {
   "cell_type": "code",
   "execution_count": null,
   "id": "c60f9b5b",
   "metadata": {},
   "outputs": [],
   "source": [
    "#DEFINICION EN latex"
   ]
  },
  {
   "cell_type": "markdown",
   "id": "b0f19382",
   "metadata": {},
   "source": [
    "#### Opción real de cierre temporal\n",
    "Supóngase que el mercado para cierto producto depende del clima, por ejemplo, un ventilador o una chamarra. El costo variable anual, X T , de la empresa puede ser pensado como el precio de ejercicio de una opción real de cierre temporal en T. Se supone que el costo de “cierre” es C, el cual es una proporción fija, δ, del valor presente de los flujos de efectivo esperados del proyecto subyacente.\n"
   ]
  },
  {
   "cell_type": "code",
   "execution_count": null,
   "id": "3cdbc885",
   "metadata": {},
   "outputs": [],
   "source": [
    "#DEFINICION EN latex"
   ]
  },
  {
   "cell_type": "markdown",
   "id": "1743c05c",
   "metadata": {},
   "source": [
    "#### Opción real de permanencia\n",
    "En proyectos de inversión de etapas múltiples se pasa de una etapa a la siguiente si el beneficio esperado es positivo. En caso contrario no se invierte en la siguiente etapa y, posiblemente, tampoco en todas las demás. De esta manera, en cada etapa en que se invierte también se adquiere una opción para permanecer en el proyecto en la próxima etapa. Esta es una opción europea (de compra) para permanecer en el proyecto si el valor presente de los flujos de efectivo esperados del proyecto subyacente, S T , es mayor que el costo de inversión, K.\n"
   ]
  },
  {
   "cell_type": "code",
   "execution_count": null,
   "id": "8843c44e",
   "metadata": {},
   "outputs": [],
   "source": [
    "#DEFINICION EN latex"
   ]
  },
  {
   "cell_type": "code",
   "execution_count": null,
   "id": "be3ed2b3",
   "metadata": {},
   "outputs": [],
   "source": []
  },
  {
   "cell_type": "code",
   "execution_count": null,
   "id": "f96fa7e4",
   "metadata": {},
   "outputs": [],
   "source": []
  },
  {
   "cell_type": "markdown",
   "id": "e56c9c44",
   "metadata": {},
   "source": [
    "#### Referencias.\n",
    "https://media.iese.edu/research/pdfs/DI-0760.pdf\n",
    "https://bdigital.uexternado.edu.co/bitstream/handle/001/392/AMA-spa-2016-Aplicaci%C3%B3n_de_opciones_reales_en_la_valoracion.pdf?sequence=1&isAllowed=y\n",
    "https://www.eltrimestreeconomico.com.mx/index.php/te/article/view/548/841\n"
   ]
  }
 ],
 "metadata": {
  "kernelspec": {
   "display_name": "Python 3",
   "language": "python",
   "name": "python3"
  },
  "language_info": {
   "codemirror_mode": {
    "name": "ipython",
    "version": 3
   },
   "file_extension": ".py",
   "mimetype": "text/x-python",
   "name": "python",
   "nbconvert_exporter": "python",
   "pygments_lexer": "ipython3",
   "version": "3.8.8"
  }
 },
 "nbformat": 4,
 "nbformat_minor": 5
}
